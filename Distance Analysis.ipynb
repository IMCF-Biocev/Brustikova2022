{
 "cells": [
  {
   "cell_type": "code",
   "execution_count": 1,
   "id": "15dfe24b",
   "metadata": {},
   "outputs": [],
   "source": [
    "import numpy as np\n",
    "from tifffile import imread\n",
    "import napari\n",
    "import matplotlib.pyplot as plt\n",
    "import cv2 as cv\n",
    "from utils import *\n",
    "from skimage.morphology import skeletonize\n",
    "from math import sqrt\n",
    "from skimage.feature import blob_log\n",
    "from pathlib import Path\n",
    "import csv\n",
    "from os.path import exists\n",
    "from skimage.morphology import binary_erosion"
   ]
  },
  {
   "cell_type": "markdown",
   "id": "266b3f83",
   "metadata": {},
   "source": [
    "# Distance analysis with napari and python"
   ]
  },
  {
   "cell_type": "markdown",
   "id": "8d7bfd63",
   "metadata": {},
   "source": [
    "Napari is a graphical interface for python capable of showing multidimensional data and very well adapted for the work with microscopical data"
   ]
  },
  {
   "cell_type": "code",
   "execution_count": 2,
   "id": "92cf69ff",
   "metadata": {},
   "outputs": [],
   "source": [
    "# run napari\n",
    "viewer = napari.Viewer()"
   ]
  },
  {
   "cell_type": "markdown",
   "id": "fddd68a0",
   "metadata": {},
   "source": [
    "First of all, we should upload the data that we are going to analyze. At this point we are going to upload separate channels to napari."
   ]
  },
  {
   "cell_type": "code",
   "execution_count": 461,
   "id": "5a90adff",
   "metadata": {},
   "outputs": [],
   "source": [
    "# import data\n",
    "name = '16_mxlaminAC-635P_rtxLT-580-2D' # name of a file\n",
    "ch1,ch2,ch3,ch4 = read_data(f'data_to_use/2022-05-26_Brustikova_STED_negative control-LAC+LT_foranalysis/{name}.tif', viewer) # specify the path if different"
   ]
  },
  {
   "cell_type": "markdown",
   "id": "67bad1a2",
   "metadata": {},
   "source": [
    "Next we will upload segmented lamin signal to the viewer, and add a segmented nucleus. It can be necessary to manually edit the mask for nucleus what can be also done in napari."
   ]
  },
  {
   "cell_type": "code",
   "execution_count": 462,
   "id": "819f1a89",
   "metadata": {},
   "outputs": [
    {
     "name": "stdout",
     "output_type": "stream",
     "text": [
      "STAR RED_CONF\n",
      "STAR RED_STED\n"
     ]
    }
   ],
   "source": [
    "# visualize segmented lamin\n",
    "membrane = ch2\n",
    "kernel = (15,15)\n",
    "threshold(membrane, kernel, viewer)\n",
    "\n",
    "# create a mask for nucleus\n",
    "segment_nucleus(viewer)"
   ]
  },
  {
   "cell_type": "code",
   "execution_count": 463,
   "id": "2a62d183",
   "metadata": {},
   "outputs": [],
   "source": [
    "# manually edit nucleus and save it as variable\n",
    "nucleus = viewer.layers['nucleus'].data"
   ]
  },
  {
   "cell_type": "markdown",
   "id": "fad969da",
   "metadata": {},
   "source": [
    "We are going to skeletonize lamin signal, so it is easier and faster to compute distances to it. It can be also needed to manually edit the skeleton."
   ]
  },
  {
   "cell_type": "code",
   "execution_count": 464,
   "id": "1d43d746",
   "metadata": {},
   "outputs": [
    {
     "data": {
      "text/plain": [
       "<Labels layer 'Lamin skeleton' at 0x3206fe9d0>"
      ]
     },
     "execution_count": 464,
     "metadata": {},
     "output_type": "execute_result"
    }
   ],
   "source": [
    "# create skeleton of membrane\n",
    "membrane = viewer.layers['STAR RED_CONF_label'].data\n",
    "skeleton = skeletonize(membrane/membrane.max())\n",
    "skeleton = skeleton.astype(np.uint8)\n",
    "viewer.add_labels(skeleton * randint(0,255), name = 'Lamin skeleton')"
   ]
  },
  {
   "cell_type": "code",
   "execution_count": 465,
   "id": "5857b4a9",
   "metadata": {},
   "outputs": [],
   "source": [
    "# manually edit nucleus and save it as variable\n",
    "skeleton = viewer.layers['Lamin skeleton'].data"
   ]
  },
  {
   "cell_type": "markdown",
   "id": "50960e0c",
   "metadata": {},
   "source": [
    "Here, we want to compute the optimal value for normalization so we also account for the size of the nucleus in our distances. As a normalization value we take the maximum possible distance from the lamin to any point in nucleus. "
   ]
  },
  {
   "cell_type": "code",
   "execution_count": 466,
   "id": "f1a5f7bf",
   "metadata": {},
   "outputs": [
    {
     "data": {
      "text/plain": [
       "<Shapes layer 'Shapes' at 0x2f636c070>"
      ]
     },
     "execution_count": 466,
     "metadata": {},
     "output_type": "execute_result"
    }
   ],
   "source": [
    "# calculate value for normalization \n",
    "nucleus = viewer.layers['nucleus'].data\n",
    "x,y = np.where(nucleus==1)\n",
    "centroid = (np.mean(x), np.mean(y))\n",
    "viewer.add_points(centroid)\n",
    "\n",
    "# find logest path between centroid and skeleton\n",
    "membrane_points = np.array(np.where(skeleton)).T\n",
    "furthest_point = find_furthest_point(centroid, membrane_points)\n",
    "\n",
    "dist_for_normalization = np.linalg.norm(np.subtract(centroid,furthest_point))\n",
    "viewer.add_shapes([furthest_point, centroid], shape_type='line', edge_color='red') "
   ]
  },
  {
   "cell_type": "markdown",
   "id": "759c2067",
   "metadata": {},
   "source": [
    "Next, we can segment virus particles. And add the detected particles to the viewer."
   ]
  },
  {
   "cell_type": "code",
   "execution_count": 467,
   "id": "2b3613c0",
   "metadata": {},
   "outputs": [
    {
     "data": {
      "text/plain": [
       "<Image layer 'particles' at 0x319919e20>"
      ]
     },
     "execution_count": 467,
     "metadata": {},
     "output_type": "execute_result"
    }
   ],
   "source": [
    "# show protein\n",
    "protein = viewer.layers['STAR 580_STED'].data\n",
    "lamin = viewer.layers['STAR RED_STED'].data\n",
    "only_protein = np.subtract(protein.astype(float),lamin.astype(float))\n",
    "only_protein = np.clip(only_protein, 0, 255)\n",
    "particles = np.where(nucleus != nucleus.max(), 0, only_protein)\n",
    "particles = np.array(particles, dtype = np.uint8)\n",
    "viewer.add_image(particles)"
   ]
  },
  {
   "cell_type": "code",
   "execution_count": 468,
   "id": "7fd550a7",
   "metadata": {},
   "outputs": [
    {
     "data": {
      "text/plain": [
       "<Points layer 'points' at 0x31c133160>"
      ]
     },
     "execution_count": 468,
     "metadata": {},
     "output_type": "execute_result"
    }
   ],
   "source": [
    "# blob detection\n",
    "blobs_log = blob_log(particles, max_sigma=5, num_sigma=10, threshold=0.015)\n",
    "blobs_log[:, 2] = blobs_log[:, 2] * sqrt(2)\n",
    "points = blobs_log[:,:2]\n",
    "viewer.add_points(points, size=10, symbol='ring', face_color='white')"
   ]
  },
  {
   "cell_type": "markdown",
   "id": "09b03b9f",
   "metadata": {},
   "source": [
    "And compute the distances."
   ]
  },
  {
   "cell_type": "code",
   "execution_count": 469,
   "id": "89ef7f63",
   "metadata": {},
   "outputs": [],
   "source": [
    "# analyse distances\n",
    "membrane_points = np.array(np.where(skeleton)).T\n",
    "\n",
    "closest_points = []\n",
    "for point in points: \n",
    "    closest_point = find_closest_point(point, membrane_points)\n",
    "    closest_points.append(closest_point)\n",
    "\n",
    "closest_points = np.array(closest_points)"
   ]
  },
  {
   "cell_type": "code",
   "execution_count": 470,
   "id": "d341279f",
   "metadata": {},
   "outputs": [
    {
     "data": {
      "text/plain": [
       "<Shapes layer 'distances' at 0x15936af40>"
      ]
     },
     "execution_count": 470,
     "metadata": {},
     "output_type": "execute_result"
    }
   ],
   "source": [
    "# show distances\n",
    "distances = np.empty((points.shape[0], 2, 2))\n",
    "distances[:, 0] = points\n",
    "distances[:, 1] = closest_points\n",
    "\n",
    "viewer.add_shapes(distances, shape_type='line', edge_color='red')"
   ]
  },
  {
   "cell_type": "markdown",
   "id": "04b199f5",
   "metadata": {},
   "source": [
    "Now, when distances are computed we can visualize them of a histogram. This histogram is automatically saved to the directory."
   ]
  },
  {
   "cell_type": "code",
   "execution_count": 471,
   "id": "04bbb3cf",
   "metadata": {},
   "outputs": [
    {
     "data": {
      "image/png": "[encoded data removed]",
      "text/plain": [
       "<Figure size 432x288 with 1 Axes>"
      ]
     },
     "metadata": {
      "needs_background": "light"
     },
     "output_type": "display_data"
    }
   ],
   "source": [
    "# compute distances\n",
    "pixel_size_side = 0.02 # micrometers\n",
    "\n",
    "normalized_distances, norm_mean, norm_std, distances, mean, std = compute_distances(points, pixel_size_side, dist_for_normalization, closest_points)\n",
    "\n",
    "plt.hist(normalized_distances, bins = 100)\n",
    "plt.ylabel('N. of particles')\n",
    "plt.xlabel('Distance normalized')\n",
    "plt.title(f'Distribution of distances: $\\mu={round(norm_mean, 4)},\\ \\sigma={round(norm_std, 4)}$')\n",
    "plt.savefig(f'{name}_normalized.png')"
   ]
  },
  {
   "cell_type": "code",
   "execution_count": 472,
   "id": "0babc28f",
   "metadata": {},
   "outputs": [
    {
     "data": {
      "image/png": "[encoded data removed]",
      "text/plain": [
       "<Figure size 432x288 with 1 Axes>"
      ]
     },
     "metadata": {
      "needs_background": "light"
     },
     "output_type": "display_data"
    }
   ],
   "source": [
    "plt.hist(distances, bins = 100)\n",
    "plt.ylabel('N. of particles')\n",
    "plt.xlabel('Distance in micrometers')\n",
    "plt.title(f'Distribution of distances: $\\mu={round(mean, 4)},\\ \\sigma={round(std, 4)}$')\n",
    "plt.savefig(f'{name}.png')"
   ]
  },
  {
   "cell_type": "markdown",
   "id": "8ce8a4e6",
   "metadata": {},
   "source": [
    "Optionally, we can save all the distances as csv file."
   ]
  },
  {
   "cell_type": "code",
   "execution_count": 473,
   "id": "db3382df",
   "metadata": {},
   "outputs": [],
   "source": [
    "# write results into some file \n",
    "normalized_distances = np.array(normalized_distances)\n",
    "np.savetxt(f\"{name}_normalized.csv\", normalized_distances, delimiter=\",\")\n",
    "\n",
    "# write results into some file \n",
    "distances = np.array(distances)\n",
    "np.savetxt(f\"{name}.csv\", distances, delimiter=\",\")"
   ]
  },
  {
   "cell_type": "markdown",
   "id": "fe89f987",
   "metadata": {},
   "source": [
    "We can also try to normalize distances to the respective area of the nucleus. For that we will compute area of each bin region. "
   ]
  },
  {
   "cell_type": "code",
   "execution_count": 474,
   "id": "d18a8976",
   "metadata": {},
   "outputs": [],
   "source": [
    "# This time we take all of the points in nucleus\n",
    "points_all = np.where(nucleus)\n",
    "points_all = np.array(points_all).T\n",
    "\n",
    "closest_points_all = []\n",
    "for point in points_all: \n",
    "    closest_point = find_closest_point(point, membrane_points)\n",
    "    closest_points_all.append(closest_point)\n",
    "\n",
    "closest_points_all = np.array(closest_points_all)\n",
    "distances_all, mean_all, std_all, __, __, __ = compute_distances(points_all, pixel_size_side, dist_for_normalization, closest_points_all)"
   ]
  },
  {
   "cell_type": "code",
   "execution_count": 475,
   "id": "5d117301",
   "metadata": {},
   "outputs": [
    {
     "data": {
      "image/png": "[encoded data removed]",
      "text/plain": [
       "<Figure size 432x288 with 1 Axes>"
      ]
     },
     "metadata": {
      "needs_background": "light"
     },
     "output_type": "display_data"
    }
   ],
   "source": [
    "hst1 = np.histogram(normalized_distances, bins = 100)\n",
    "hst2 = np.histogram(distances_all, bins = hst1[1])\n",
    "\n",
    "normalized = hst1[0] / (hst2[0] + 1)\n",
    "plt.step(hst1[1][:-1], normalized)\n",
    "plt.ylabel('N. of particles normalized to area of the region')\n",
    "plt.xlabel('Distance normalized')\n",
    "plt.title(f'Distribution of distances: $\\mu={round(norm_mean, 4)},\\ \\sigma={round(norm_std, 4)}$')\n",
    "plt.savefig(f'{name}_normalized_to_area.png')"
   ]
  },
  {
   "cell_type": "markdown",
   "id": "41978b35",
   "metadata": {},
   "source": [
    "## Is this result different from the random distribution?"
   ]
  },
  {
   "cell_type": "markdown",
   "id": "3674c104",
   "metadata": {},
   "source": [
    "To answer this question we can simulate the random distribution of particles in nucleus and compute same histogram for the simulated case. "
   ]
  },
  {
   "cell_type": "code",
   "execution_count": 476,
   "id": "fac9422f",
   "metadata": {},
   "outputs": [
    {
     "data": {
      "text/plain": [
       "<Points layer 'points_in_nucleus' at 0x2ebc63040>"
      ]
     },
     "execution_count": 476,
     "metadata": {},
     "output_type": "execute_result"
    }
   ],
   "source": [
    "# generate random coordinates for points inside nucleus\n",
    "# number of points should be given by real number of points \n",
    "n_points = closest_points.shape[0] # set number of points to generate\n",
    "points_in_nucleus = generate_points(nucleus, n_points)\n",
    "viewer.add_points(points_in_nucleus, size=5, symbol='ring', face_color='red')"
   ]
  },
  {
   "cell_type": "markdown",
   "id": "520fde71",
   "metadata": {},
   "source": [
    "Same again. We compute the distances."
   ]
  },
  {
   "cell_type": "code",
   "execution_count": 477,
   "id": "ccb25c16",
   "metadata": {},
   "outputs": [],
   "source": [
    "# analyse distances\n",
    "membrane_points_random = np.array(np.where(skeleton)).T\n",
    "\n",
    "closest_points_random = []\n",
    "for point in points_in_nucleus: \n",
    "    closest_point = find_closest_point(point, membrane_points_random)\n",
    "    closest_points_random.append(closest_point)\n",
    "\n",
    "closest_points_random = np.array(closest_points_random)"
   ]
  },
  {
   "cell_type": "markdown",
   "id": "45ff58b6",
   "metadata": {},
   "source": [
    "And visualize them as a histogram."
   ]
  },
  {
   "cell_type": "code",
   "execution_count": 478,
   "id": "c3af8292",
   "metadata": {},
   "outputs": [
    {
     "data": {
      "text/plain": [
       "Text(0.5, 1.0, 'Distribution of distances from random sampling: $\\\\mu=0.0034,\\\\ \\\\sigma=0.0028$')"
      ]
     },
     "execution_count": 478,
     "metadata": {},
     "output_type": "execute_result"
    },
    {
     "data": {
      "image/png": "[encoded data removed]",
      "text/plain": [
       "<Figure size 432x288 with 1 Axes>"
      ]
     },
     "metadata": {
      "needs_background": "light"
     },
     "output_type": "display_data"
    }
   ],
   "source": [
    "# dist for normalization can be 1 if no normalization\n",
    "distances_random, mean_random, std_random, __,__,__ = compute_distances(points_in_nucleus, pixel_size_side, dist_for_normalization, closest_points_random)\n",
    "plt.hist(distances_random, bins = 100)\n",
    "\n",
    "plt.ylabel('N. of particles')\n",
    "plt.xlabel('Distance normalized')\n",
    "plt.title(f'Distribution of distances from random sampling: $\\mu={round(mean_random, 4)},\\ \\sigma={round(std_random, 4)}$')"
   ]
  },
  {
   "cell_type": "code",
   "execution_count": 479,
   "id": "d5a6628a",
   "metadata": {},
   "outputs": [],
   "source": [
    "# write results into some file \n",
    "distances_random = np.array(distances_random)\n",
    "np.savetxt(f\"{name}_random.csv\", distances_random, delimiter=\",\")"
   ]
  },
  {
   "cell_type": "markdown",
   "id": "8bbd10f9",
   "metadata": {},
   "source": [
    "Divide two histograms."
   ]
  },
  {
   "cell_type": "code",
   "execution_count": 480,
   "id": "a0edb9ed",
   "metadata": {},
   "outputs": [
    {
     "data": {
      "image/png": "[encoded data removed]",
      "text/plain": [
       "<Figure size 432x288 with 1 Axes>"
      ]
     },
     "metadata": {
      "needs_background": "light"
     },
     "output_type": "display_data"
    }
   ],
   "source": [
    "# plot two histograms together\n",
    "plt.hist(normalized_distances, bins = 100, label = 'real', alpha = 0.5)\n",
    "plt.hist(distances_random, bins = 100, label = 'simulated', alpha = 0.5)\n",
    "plt.legend()\n",
    "plt.ylabel('N. of particles')\n",
    "plt.xlabel('Distance normalized')\n",
    "plt.title(f'Distribution of distances')\n",
    "plt.savefig(f'{name}_real_vs_simulated.png')"
   ]
  },
  {
   "cell_type": "code",
   "execution_count": 481,
   "id": "f7713ef4",
   "metadata": {},
   "outputs": [
    {
     "data": {
      "image/png": "[encoded data removed]",
      "text/plain": [
       "<Figure size 432x288 with 1 Axes>"
      ]
     },
     "metadata": {
      "needs_background": "light"
     },
     "output_type": "display_data"
    }
   ],
   "source": [
    "\n",
    "hst1 = np.histogram(normalized_distances, bins = 50)\n",
    "hst2 = np.histogram(distances_all, bins = hst1[1])\n",
    "hst3 = np.histogram(distances_random, bins = hst1[1])\n",
    "\n",
    "\n",
    "normalized = hst1[0] / (hst2[0] + 1)\n",
    "normalized_random = hst3[0] / (hst2[0] + 1)\n",
    "\n",
    "plt.step(hst1[1][:-1], normalized, label = 'real')\n",
    "plt.step(hst1[1][:-1], normalized_random, label = 'simulated')\n",
    "\n",
    "plt.xlabel('Distances normalized')\n",
    "plt.ylabel('N. of particles normalized to area of the region')\n",
    "\n",
    "plt.title('Distances distributions')\n",
    "plt.legend()\n",
    "plt.savefig(f'{name}_real_vs_simulated_normalized.png')\n"
   ]
  },
  {
   "cell_type": "code",
   "execution_count": 482,
   "id": "ec3c0307",
   "metadata": {},
   "outputs": [
    {
     "data": {
      "text/plain": [
       "<matplotlib.legend.Legend at 0x2d3f32be0>"
      ]
     },
     "execution_count": 482,
     "metadata": {},
     "output_type": "execute_result"
    },
    {
     "data": {
      "image/png": "[encoded data removed]",
      "text/plain": [
       "<Figure size 432x288 with 1 Axes>"
      ]
     },
     "metadata": {
      "needs_background": "light"
     },
     "output_type": "display_data"
    }
   ],
   "source": [
    "N = 10\n",
    "\n",
    "hst1 = np.histogram(normalized_distances,bins=100)\n",
    "hst2 = np.histogram(distances_random,bins=100)\n",
    "\n",
    "\n",
    "distances_blurred = np.convolve(hst1[0], np.ones(N) / N, mode='same')\n",
    "distances_random_blurred = np.convolve(hst2[0], np.ones(N) / N, mode='same')\n",
    "\n",
    "hst1_blurred = np.histogram(distances_blurred,bins=100)\n",
    "hst2_blurred = np.histogram(distances_random_blurred,bins=100)\n",
    "\n",
    "\n",
    "plt.plot(hst1[1][:-1], distances_blurred, label='real')\n",
    "plt.plot(hst2[1][:-1], distances_random_blurred, label='simulated')\n",
    "plt.legend()\n"
   ]
  },
  {
   "cell_type": "code",
   "execution_count": 483,
   "id": "533bba0b",
   "metadata": {},
   "outputs": [
    {
     "data": {
      "image/png": "[encoded data removed]",
      "text/plain": [
       "<Figure size 432x288 with 1 Axes>"
      ]
     },
     "metadata": {
      "needs_background": "light"
     },
     "output_type": "display_data"
    }
   ],
   "source": [
    "hst_dif = (hst1_blurred[0])/(hst2_blurred[0] + 1)\n",
    "\n",
    "plt.step(hst1[1][:-1], hst_dif)\n",
    "plt.title(\"Histograms difference\")\n",
    "plt.show()"
   ]
  },
  {
   "cell_type": "markdown",
   "id": "297dbb63",
   "metadata": {},
   "source": [
    "Are distances in real nuclei different from the simulated ones? Statistical tests could tell? Which ones? "
   ]
  },
  {
   "cell_type": "markdown",
   "id": "73a5daf1",
   "metadata": {},
   "source": [
    "# Pearson correlation coefficient "
   ]
  },
  {
   "cell_type": "markdown",
   "id": "562663cf",
   "metadata": {},
   "source": [
    "We can compute pearson correlation coefficient to compute correlation of intensities inside the nucleus. We compute the Pearson coefficient according to the following formula.\n",
    "\n",
    "$${\\displaystyle r_{xy}={\\frac {\\sum _{i=1}^{n}(x_{i}-{\\bar {x}})(y_{i}-{\\bar {y}})}{{\\sqrt {\\sum _{i=1}^{n}(x_{i}-{\\bar {x}})^{2}}}{\\sqrt {\\sum _{i=1}^{n}(y_{i}-{\\bar {y}})^{2}}}}}}$$"
   ]
  },
  {
   "cell_type": "code",
   "execution_count": 484,
   "id": "2936bdfa",
   "metadata": {},
   "outputs": [
    {
     "name": "stdout",
     "output_type": "stream",
     "text": [
      "Pearson correlation coefficient is 0.3044 for confocal channels\n",
      "Pearson correlation coefficient is 0.228 for STED channels\n"
     ]
    }
   ],
   "source": [
    "# which channels we want to compare? STAR RED_STED (ch3) & STAR 580_STED (ch4)\n",
    "# we will only compare pixels inside nucleus\n",
    "\n",
    "pcc_conf = compute_pcc(ch1,ch2,nucleus)\n",
    "pcc_sted = compute_pcc(ch3,ch4,nucleus)\n",
    "\n",
    "print(f'Pearson correlation coefficient is {pcc_conf} for confocal channels')\n",
    "print(f'Pearson correlation coefficient is {pcc_sted} for STED channels')\n",
    "\n",
    "# save txt file with pcc values\n",
    "with open(f'pcc.txt', 'a') as f:\n",
    "    f.write(f'For sample name {name} the Pearson correlation coefficient is {pcc_conf} for confocal channels\\n')\n",
    "    f.write(f'For sample name {name} the Pearson correlation coefficient is {pcc_sted} for STED channels\\n')\n"
   ]
  },
  {
   "cell_type": "markdown",
   "id": "99ce188d",
   "metadata": {},
   "source": [
    "# Pearson's chi-squared test"
   ]
  },
  {
   "cell_type": "markdown",
   "id": "bf096788",
   "metadata": {},
   "source": [
    "In this test we are going to compare the two regions in the nucleus: the membrane-bound part of a nucleus and the central part of it. We test \n",
    "\n",
    "$$H_{0} = P(x_{\\text membrane}) = P(x_{\\text center}) = \\frac{1}{2}$$\n",
    "\n",
    "Using test statistics\n",
    "\n",
    "The value of the test-statistic is\n",
    "\n",
    "$${\\displaystyle \\chi ^{2}=\\sum _{i=1}^{n}{\\frac {(O_{i}-E_{i})^{2}}{E_{i}}}=N\\sum _{i=1}^{n}{\\frac {\\left(O_{i}/N-p_{i}\\right)^{2}}{p_{i}}}}$$\n",
    "\n",
    "where\n",
    "\n",
    "${\\displaystyle \\chi ^{2}}$ = Pearson's cumulative test statistic, which asymptotically approaches a ${\\displaystyle \\chi ^{2}}$ distribution.\n",
    "\n",
    "${\\displaystyle O_{i}}$ = the number of observations of type i.\n",
    "\n",
    "${\\displaystyle N}$ = total number of observations\n",
    "\n",
    "${\\displaystyle E_{i}=Np_{i}}$ = the expected (theoretical) count of type i, asserted by the null hypothesis that the fraction of type i in the population is ${\\displaystyle p_{i}}$\n",
    "\n",
    "${\\displaystyle n}$ = the number of cells in the table.\n"
   ]
  },
  {
   "cell_type": "code",
   "execution_count": 485,
   "id": "2b4d1ef3",
   "metadata": {},
   "outputs": [
    {
     "name": "stdout",
     "output_type": "stream",
     "text": [
      "Center area is 1091305\n",
      "Membrane bound area is 1106176\n"
     ]
    }
   ],
   "source": [
    "from skimage.morphology import disk\n",
    "# get nucleus\n",
    "nucleus = viewer.layers['nucleus'].data\n",
    "\n",
    "# create two regions of same area by erosion of nucleus\n",
    "center_area = 0\n",
    "membrane_bound_area = np.sum(nucleus)\n",
    "center = nucleus.copy()\n",
    "diff = abs(membrane_bound_area - center_area)\n",
    "\n",
    "while True:\n",
    "    center = binary_erosion(center, disk(3))\n",
    "    center_area = np.sum(center)\n",
    "    membrane_bound_area = np.sum(nucleus) - center_area\n",
    "    new_diff = abs(membrane_bound_area - center_area)\n",
    "    if new_diff < diff:\n",
    "        diff = new_diff\n",
    "        continue\n",
    "    else:\n",
    "        break\n",
    "    \n",
    "print(f'Center area is {center_area}')\n",
    "print(f'Membrane bound area is {membrane_bound_area}')\n"
   ]
  },
  {
   "cell_type": "code",
   "execution_count": 486,
   "id": "a4e2c4eb",
   "metadata": {},
   "outputs": [],
   "source": [
    "# viewer.add_labels(center, name='region 1')\n",
    "region_2 = nucleus.copy()\n",
    "region_2[center == 1] = 0\n",
    "# viewer.add_labels(region_2, name='region 2')"
   ]
  },
  {
   "cell_type": "code",
   "execution_count": 487,
   "id": "f4c45408",
   "metadata": {},
   "outputs": [],
   "source": [
    "# compute number of particles in each region\n",
    "region_1_points = np.array(np.where(center)).T\n",
    "region_2_points = np.array(np.where(region_2)).T\n",
    "\n",
    "# take only subset of points that layes in both points_in_nucleus and region_1_points\n",
    "aset = set([tuple(x) for x in points_in_nucleus])\n",
    "bset = set([tuple(x) for x in region_1_points])\n",
    "points_in_region_1 = np.array([x for x in aset & bset])\n",
    "\n",
    "aset = set([tuple(x) for x in points_in_nucleus])\n",
    "bset = set([tuple(x) for x in region_2_points])\n",
    "points_in_region_2 = np.array([x for x in aset & bset])\n",
    "\n",
    "# viewer.add_points(points_in_region_1, size=5, symbol='ring', face_color='red')\n",
    "# viewer.add_points(points_in_region_2, size=5, symbol='ring', face_color='red')"
   ]
  },
  {
   "cell_type": "code",
   "execution_count": 488,
   "id": "f103a2c3",
   "metadata": {},
   "outputs": [
    {
     "name": "stdout",
     "output_type": "stream",
     "text": [
      "10177 10466\n"
     ]
    }
   ],
   "source": [
    "# take number of points_in_region_1\n",
    "number_of_points_in_region_1 = len(points_in_region_1)\n",
    "# take number of points_in_region_2\n",
    "number_of_points_in_region_2 = len(points_in_region_2)\n",
    "\n",
    "print(number_of_points_in_region_1, number_of_points_in_region_2)\n",
    "\n",
    "# save info to txt file\n",
    "with open(f'chisquared_test.txt', 'a') as f:\n",
    "    f.write(f'For sample name {name} the number of simulated points in center is {number_of_points_in_region_1}\\n')\n",
    "    f.write(f'For sample name {name} the number of simulated points around membrane is {number_of_points_in_region_2}\\n')\n"
   ]
  },
  {
   "cell_type": "code",
   "execution_count": 489,
   "id": "7dbef85f",
   "metadata": {},
   "outputs": [
    {
     "name": "stdout",
     "output_type": "stream",
     "text": [
      "10174 10469\n"
     ]
    }
   ],
   "source": [
    "# also compute real particals that fall into a region 1 and region 2\n",
    "# take only subset of points that layes in both points_in_nucleus and region_1_points\n",
    "aset = set([tuple(x) for x in points])\n",
    "bset = set([tuple(x) for x in region_1_points])\n",
    "particles_in_region_1 = np.array([x for x in aset & bset])\n",
    "\n",
    "aset = set([tuple(x) for x in points])\n",
    "bset = set([tuple(x) for x in region_2_points])\n",
    "particles_in_region_2 = np.array([x for x in aset & bset])\n",
    "\n",
    "viewer.add_points(particles_in_region_1, size=5, symbol='ring', face_color='red')\n",
    "viewer.add_points(particles_in_region_2, size=5, symbol='ring', face_color='red')\n",
    "\n",
    "# take number of points_in_region_1\n",
    "number_of_particles_in_region_1 = len(particles_in_region_1)\n",
    "# take number of points_in_region_2\n",
    "number_of_particles_in_region_2 = len(particles_in_region_2)\n",
    "\n",
    "print(number_of_particles_in_region_1, number_of_particles_in_region_2)\n",
    "# viewer.add_points(particles_in_region_1, size=5, symbol='ring', face_color='red')\n",
    "# viewer.add_points(particles_in_region_2, size=5, symbol='ring', face_color='red')\n",
    "\n",
    "with open(f'chisquared_test.txt', 'a') as f:\n",
    "    f.write(f'For sample name {name} the number of real particles in center is {number_of_particles_in_region_1}\\n')\n",
    "    f.write(f'For sample name {name} the number of real particles around membrane is {number_of_particles_in_region_2}\\n')\n"
   ]
  },
  {
   "cell_type": "code",
   "execution_count": 490,
   "id": "869d05a1",
   "metadata": {
    "scrolled": true
   },
   "outputs": [
    {
     "name": "stdout",
     "output_type": "stream",
     "text": [
      "Power_divergenceResult(statistic=4.215714770139999, pvalue=0.04005118886070103)\n",
      "Power_divergenceResult(statistic=4.04597200019377, pvalue=0.04427687374197282)\n"
     ]
    }
   ],
   "source": [
    "from scipy.stats import chisquare\n",
    "\n",
    "print(chisquare([number_of_particles_in_region_1, number_of_particles_in_region_2]))\n",
    "print(chisquare([number_of_points_in_region_1, number_of_points_in_region_2]))"
   ]
  }
 ],
 "metadata": {
  "interpreter": {
   "hash": "cf8b8dc69b1e5e9e29a60c14484e944963fde31a86d7ee3b3123eab1914142be"
  },
  "kernelspec": {
   "display_name": "Python 3 (ipykernel)",
   "language": "python",
   "name": "python3"
  },
  "language_info": {
   "codemirror_mode": {
    "name": "ipython",
    "version": 3
   },
   "file_extension": ".py",
   "mimetype": "text/x-python",
   "name": "python",
   "nbconvert_exporter": "python",
   "pygments_lexer": "ipython3",
   "version": "3.9.0"
  }
 },
 "nbformat": 4,
 "nbformat_minor": 5
}
